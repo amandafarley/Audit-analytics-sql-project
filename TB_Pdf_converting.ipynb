{
 "cells": [
  {
   "cell_type": "markdown",
   "id": "6cd5430b",
   "metadata": {},
   "source": [
    "# Import the required Module\n",
    "import tabula\n",
    "# Read a PDF File\n",
    "df = tabula.read_pdf(\"IPLmatch.pdf\", pages='all')[0]\n",
    "# convert PDF into CSV\n",
    "tabula.convert_into(\"IPLmatch.pdf\", \"iplmatch.csv\", output_format=\"csv\", pages='all')\n",
    "print(df)"
   ]
  },
  {
   "cell_type": "code",
   "execution_count": 2,
   "id": "b56c56e1",
   "metadata": {},
   "outputs": [
    {
     "name": "stdout",
     "output_type": "stream",
     "text": [
      "Requirement already satisfied: tabula-py in /Users/amandafarley/opt/anaconda3/lib/python3.9/site-packages (2.3.0)\n",
      "Requirement already satisfied: numpy in /Users/amandafarley/opt/anaconda3/lib/python3.9/site-packages (from tabula-py) (1.20.3)\n",
      "Requirement already satisfied: pandas>=0.25.3 in /Users/amandafarley/opt/anaconda3/lib/python3.9/site-packages (from tabula-py) (1.3.4)\n",
      "Requirement already satisfied: distro in /Users/amandafarley/opt/anaconda3/lib/python3.9/site-packages (from tabula-py) (1.7.0)\n",
      "Requirement already satisfied: python-dateutil>=2.7.3 in /Users/amandafarley/opt/anaconda3/lib/python3.9/site-packages (from pandas>=0.25.3->tabula-py) (2.8.2)\n",
      "Requirement already satisfied: pytz>=2017.3 in /Users/amandafarley/opt/anaconda3/lib/python3.9/site-packages (from pandas>=0.25.3->tabula-py) (2021.3)\n",
      "Requirement already satisfied: six>=1.5 in /Users/amandafarley/opt/anaconda3/lib/python3.9/site-packages (from python-dateutil>=2.7.3->pandas>=0.25.3->tabula-py) (1.16.0)\n",
      "Note: you may need to restart the kernel to use updated packages.\n"
     ]
    }
   ],
   "source": [
    "pip install tabula-py"
   ]
  },
  {
   "cell_type": "code",
   "execution_count": 3,
   "id": "aa764641",
   "metadata": {},
   "outputs": [
    {
     "name": "stdout",
     "output_type": "stream",
     "text": [
      "Python version:\n",
      "    3.9.7 (default, Sep 16 2021, 08:50:36) \n",
      "[Clang 10.0.0 ]\n",
      "Java version:\n",
      "    java version \"1.8.0_321\"\n",
      "Java(TM) SE Runtime Environment (build 1.8.0_321-b07)\n",
      "Java HotSpot(TM) 64-Bit Server VM (build 25.321-b07, mixed mode)\n",
      "tabula-py version: 2.3.0\n",
      "platform: macOS-10.16-x86_64-i386-64bit\n",
      "uname:\n",
      "    uname_result(system='Darwin', node='Amandas-MacBook-Pro-2.local', release='20.6.0', version='Darwin Kernel Version 20.6.0: Wed Jan 12 22:22:42 PST 2022; root:xnu-7195.141.19~2/RELEASE_X86_64', machine='x86_64')\n",
      "linux_distribution: ('Darwin', '20.6.0', '')\n",
      "mac_ver: ('10.16', ('', '', ''), 'x86_64')\n",
      "    \n"
     ]
    }
   ],
   "source": [
    "import tabula\n",
    "\n",
    "tabula.environment_info()"
   ]
  },
  {
   "cell_type": "code",
   "execution_count": 3,
   "id": "fc49765b",
   "metadata": {
    "scrolled": true
   },
   "outputs": [
    {
     "name": "stdout",
     "output_type": "stream",
     "text": [
      "java version \"1.8.0_321\"\r\n",
      "Java(TM) SE Runtime Environment (build 1.8.0_321-b07)\r\n",
      "Java HotSpot(TM) 64-Bit Server VM (build 25.321-b07, mixed mode)\r\n"
     ]
    }
   ],
   "source": [
    "!java -version"
   ]
  },
  {
   "cell_type": "code",
   "execution_count": 4,
   "id": "dbdc195e",
   "metadata": {},
   "outputs": [],
   "source": [
    "#import sys\n",
    "#b = sys.path\n",
    "#sys.path = ['/opt/java/jre1.8.0_321/bin'] + b"
   ]
  },
  {
   "cell_type": "code",
   "execution_count": 4,
   "id": "f9e850ad",
   "metadata": {},
   "outputs": [],
   "source": [
    "import pandas as pd \n",
    "import xlsxwriter"
   ]
  },
  {
   "cell_type": "code",
   "execution_count": 5,
   "id": "99e29af1",
   "metadata": {},
   "outputs": [],
   "source": [
    "pdf_path = 'https://github.com/amandafarley/sql-project/blob/24cc0249eac09fcb716204c4a35d28897a5206cf/TrialBalanceListing.pdf?raw=true'\n",
    "\n",
    "df = tabula.read_pdf(pdf_path, pages='all', multiple_tables=True)"
   ]
  },
  {
   "cell_type": "code",
   "execution_count": 7,
   "id": "d21abebb",
   "metadata": {},
   "outputs": [],
   "source": [
    "tabula.convert_into(pdf_path, \"TrialBalanceOutput.csv\", output_format=\"csv\", pages='all')"
   ]
  },
  {
   "cell_type": "code",
   "execution_count": null,
   "id": "cfcc945d",
   "metadata": {},
   "outputs": [],
   "source": []
  }
 ],
 "metadata": {
  "kernelspec": {
   "display_name": "Python 3 (ipykernel)",
   "language": "python",
   "name": "python3"
  },
  "language_info": {
   "codemirror_mode": {
    "name": "ipython",
    "version": 3
   },
   "file_extension": ".py",
   "mimetype": "text/x-python",
   "name": "python",
   "nbconvert_exporter": "python",
   "pygments_lexer": "ipython3",
   "version": "3.9.7"
  }
 },
 "nbformat": 4,
 "nbformat_minor": 5
}
